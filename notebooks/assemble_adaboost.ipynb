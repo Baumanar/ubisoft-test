{
 "cells": [
  {
   "cell_type": "code",
   "execution_count": null,
   "outputs": [],
   "source": [],
   "metadata": {
    "collapsed": false,
    "pycharm": {
     "name": "#%%\n"
    }
   }
  },
  {
   "cell_type": "markdown",
   "source": [
    "# Fraud Detection\n",
    "## Ubisoft home assignemenet\n",
    "### Arnaud Baumann"
   ],
   "metadata": {
    "collapsed": false
   }
  },
  {
   "cell_type": "markdown",
   "source": [
    "#### Some statistics about the dataset\n",
    "\n",
    "We will first show some statistics about the dataset"
   ],
   "metadata": {
    "collapsed": false
   }
  },
  {
   "cell_type": "code",
   "execution_count": 3,
   "outputs": [
    {
     "ename": "ModuleNotFoundError",
     "evalue": "No module named 'utils'",
     "output_type": "error",
     "traceback": [
      "\u001B[0;31m---------------------------------------------------------------------------\u001B[0m",
      "\u001B[0;31mModuleNotFoundError\u001B[0m                       Traceback (most recent call last)",
      "\u001B[0;32m<ipython-input-3-086d5bf73bff>\u001B[0m in \u001B[0;36m<module>\u001B[0;34m\u001B[0m\n\u001B[1;32m      4\u001B[0m \u001B[0;34m\u001B[0m\u001B[0m\n\u001B[1;32m      5\u001B[0m \u001B[0;32mfrom\u001B[0m \u001B[0msklearn\u001B[0m\u001B[0;34m.\u001B[0m\u001B[0mtree\u001B[0m \u001B[0;32mimport\u001B[0m \u001B[0mDecisionTreeClassifier\u001B[0m\u001B[0;34m\u001B[0m\u001B[0;34m\u001B[0m\u001B[0m\n\u001B[0;32m----> 6\u001B[0;31m \u001B[0;32mfrom\u001B[0m \u001B[0mapi\u001B[0m\u001B[0;34m.\u001B[0m\u001B[0massembleAdaboost\u001B[0m \u001B[0;32mimport\u001B[0m \u001B[0mAssembleAdaBoost\u001B[0m\u001B[0;34m\u001B[0m\u001B[0;34m\u001B[0m\u001B[0m\n\u001B[0m\u001B[1;32m      7\u001B[0m \u001B[0;32mimport\u001B[0m \u001B[0mnumpy\u001B[0m \u001B[0;32mas\u001B[0m \u001B[0mnp\u001B[0m\u001B[0;34m\u001B[0m\u001B[0;34m\u001B[0m\u001B[0m\n\u001B[1;32m      8\u001B[0m \u001B[0;32mfrom\u001B[0m \u001B[0mapi\u001B[0m\u001B[0;34m.\u001B[0m\u001B[0mutils\u001B[0m \u001B[0;32mimport\u001B[0m \u001B[0;34m*\u001B[0m\u001B[0;34m\u001B[0m\u001B[0;34m\u001B[0m\u001B[0m\n",
      "\u001B[0;32m~/PycharmProjects/ubisoft-test/api/assembleAdaboost.py\u001B[0m in \u001B[0;36m<module>\u001B[0;34m\u001B[0m\n\u001B[1;32m      1\u001B[0m \u001B[0;32mfrom\u001B[0m \u001B[0msklearn\u001B[0m\u001B[0;34m.\u001B[0m\u001B[0mtree\u001B[0m \u001B[0;32mimport\u001B[0m \u001B[0mDecisionTreeClassifier\u001B[0m\u001B[0;34m\u001B[0m\u001B[0;34m\u001B[0m\u001B[0m\n\u001B[1;32m      2\u001B[0m \u001B[0;32mimport\u001B[0m \u001B[0mnumpy\u001B[0m \u001B[0;32mas\u001B[0m \u001B[0mnp\u001B[0m\u001B[0;34m\u001B[0m\u001B[0;34m\u001B[0m\u001B[0m\n\u001B[0;32m----> 3\u001B[0;31m \u001B[0;32mfrom\u001B[0m \u001B[0mutils\u001B[0m \u001B[0;32mimport\u001B[0m \u001B[0msoftmax\u001B[0m\u001B[0;34m\u001B[0m\u001B[0;34m\u001B[0m\u001B[0m\n\u001B[0m\u001B[1;32m      4\u001B[0m \u001B[0;34m\u001B[0m\u001B[0m\n\u001B[1;32m      5\u001B[0m \u001B[0;34m\u001B[0m\u001B[0m\n",
      "\u001B[0;31mModuleNotFoundError\u001B[0m: No module named 'utils'"
     ]
    }
   ],
   "source": [
    "import pandas as pd\n",
    "import sys\n",
    "pd.options.mode.chained_assignment = None\n",
    "\n",
    "from sklearn.tree import DecisionTreeClassifier\n",
    "from api.assembleAdaboost import AssembleAdaBoost\n",
    "import numpy as np\n",
    "from api.utils import *\n",
    "from sklearn.decomposition import PCA\n",
    "from sklearn.manifold import TSNE\n",
    "import matplotlib.pyplot as plt\n",
    "\n",
    "# First read the csv with pandas and transform it to a dataframe\n",
    "df = pd.read_csv(\"mle_fraud_test.csv\", sep=\";\")\n",
    "df.describe()"
   ],
   "metadata": {
    "collapsed": false,
    "pycharm": {
     "name": "#%%\n"
    }
   }
  },
  {
   "cell_type": "markdown",
   "source": [
    "Let's try to visualize the data with a TSNE. We sample `n_samples = 300` from each class and feed it to a TSNE and plot it\n"
   ],
   "metadata": {
    "collapsed": false
   }
  },
  {
   "cell_type": "code",
   "execution_count": 8,
   "outputs": [
    {
     "ename": "NameError",
     "evalue": "name 'df' is not defined",
     "output_type": "error",
     "traceback": [
      "\u001B[0;31m---------------------------------------------------------------------------\u001B[0m",
      "\u001B[0;31mNameError\u001B[0m                                 Traceback (most recent call last)",
      "\u001B[0;32m<ipython-input-8-c68243b036d3>\u001B[0m in \u001B[0;36m<module>\u001B[0;34m\u001B[0m\n\u001B[1;32m      1\u001B[0m \u001B[0mn_samples\u001B[0m \u001B[0;34m=\u001B[0m \u001B[0;36m300\u001B[0m\u001B[0;34m\u001B[0m\u001B[0;34m\u001B[0m\u001B[0m\n\u001B[0;32m----> 2\u001B[0;31m \u001B[0mlegit_df\u001B[0m \u001B[0;34m=\u001B[0m \u001B[0mdf\u001B[0m\u001B[0;34m[\u001B[0m\u001B[0mdf\u001B[0m\u001B[0;34m[\u001B[0m\u001B[0;34m\"transaction_status\"\u001B[0m\u001B[0;34m]\u001B[0m\u001B[0;34m==\u001B[0m\u001B[0;34m\"LEGIT\"\u001B[0m\u001B[0;34m]\u001B[0m\u001B[0;34m.\u001B[0m\u001B[0msample\u001B[0m\u001B[0;34m(\u001B[0m\u001B[0mn\u001B[0m\u001B[0;34m=\u001B[0m\u001B[0mn_samples\u001B[0m\u001B[0;34m)\u001B[0m\u001B[0;34m\u001B[0m\u001B[0;34m\u001B[0m\u001B[0m\n\u001B[0m\u001B[1;32m      3\u001B[0m \u001B[0mfraud_df\u001B[0m \u001B[0;34m=\u001B[0m \u001B[0mdf\u001B[0m\u001B[0;34m[\u001B[0m\u001B[0mdf\u001B[0m\u001B[0;34m[\u001B[0m\u001B[0;34m\"transaction_status\"\u001B[0m\u001B[0;34m]\u001B[0m\u001B[0;34m==\u001B[0m\u001B[0;34m\"FRAUD\"\u001B[0m\u001B[0;34m]\u001B[0m\u001B[0;34m.\u001B[0m\u001B[0msample\u001B[0m\u001B[0;34m(\u001B[0m\u001B[0mn\u001B[0m\u001B[0;34m=\u001B[0m\u001B[0mn_samples\u001B[0m\u001B[0;34m)\u001B[0m\u001B[0;34m\u001B[0m\u001B[0;34m\u001B[0m\u001B[0m\n\u001B[1;32m      4\u001B[0m \u001B[0mblocked_df\u001B[0m \u001B[0;34m=\u001B[0m \u001B[0mdf\u001B[0m\u001B[0;34m[\u001B[0m\u001B[0mdf\u001B[0m\u001B[0;34m[\u001B[0m\u001B[0;34m\"transaction_status\"\u001B[0m\u001B[0;34m]\u001B[0m\u001B[0;34m==\u001B[0m\u001B[0;34m\"BLOCKED\"\u001B[0m\u001B[0;34m]\u001B[0m\u001B[0;34m.\u001B[0m\u001B[0msample\u001B[0m\u001B[0;34m(\u001B[0m\u001B[0mn\u001B[0m\u001B[0;34m=\u001B[0m\u001B[0mn_samples\u001B[0m\u001B[0;34m)\u001B[0m\u001B[0;34m\u001B[0m\u001B[0;34m\u001B[0m\u001B[0m\n\u001B[1;32m      5\u001B[0m \u001B[0;34m\u001B[0m\u001B[0m\n",
      "\u001B[0;31mNameError\u001B[0m: name 'df' is not defined"
     ]
    }
   ],
   "source": [
    "n_samples = 300\n",
    "legit_df = df[df[\"transaction_status\"]==\"LEGIT\"].sample(n=n_samples)\n",
    "fraud_df = df[df[\"transaction_status\"]==\"FRAUD\"].sample(n=n_samples)\n",
    "blocked_df = df[df[\"transaction_status\"]==\"BLOCKED\"].sample(n=n_samples)\n",
    "\n",
    "X_legit = get_df_features(legit_df)\n",
    "X_fraud= get_df_features(fraud_df)\n",
    "X_blocked = get_df_features(blocked_df)\n",
    "\n",
    "n_components = 2\n",
    "pca = TSNE(n_components=n_components)\n",
    "X_pca = pca.fit_transform(np.concatenate([X_legit, X_fraud, X_blocked]))\n",
    "\n",
    "plt.figure(figsize=(8, 8))\n",
    "colors = ['navy', 'turquoise', 'darkorange']\n",
    "for color, i, target_name in zip(colors, [0, 1, 2], ['LEGIT', 'FRAUD', 'BLOCKED']):\n",
    "    plt.scatter(X_pca[i*n_samples:(i+1)*n_samples,0], X_pca[i*n_samples:(i+1)*n_samples,1], s=1,\n",
    "                color=color, lw=2, label=target_name)\n",
    "plt.legend(loc=\"best\", shadow=False, scatterpoints=1)\n",
    "plt.show()"
   ],
   "metadata": {
    "collapsed": false,
    "pycharm": {
     "name": "#%%\n"
    }
   }
  },
  {
   "cell_type": "markdown",
   "source": [
    "### Dataset imbalance\n",
    "\n",
    "Datasets for fraud detection are usually very unbalanced, as the majority of samples are valid\n",
    "(LEGIT in our case). Here we have an additionnal third class named 'BLOCKED' meaning that the existing fraud\n",
    "management tool has stopped the transaction and we do not have a final label for it. We refer in this notebook\n",
    "to data with 'BLOCKED' label with variables containing 'blocked'"
   ],
   "metadata": {
    "collapsed": false
   }
  },
  {
   "cell_type": "code",
   "execution_count": 5,
   "outputs": [
    {
     "name": "stdout",
     "output_type": "stream",
     "text": [
      "Number of legit payments: 287653 ouf of 351608 (0.8181%)\n",
      "Number of blocked payments: 61287 ouf of 351608 (0.1743%)\n",
      "Number of fraud payments: 2668 ouf of 351608 (0.0076%)\n"
     ]
    }
   ],
   "source": [
    "num_legits = len(df[df[\"transaction_status\"]==\"LEGIT\"])\n",
    "num_blocked = len(df[df[\"transaction_status\"]==\"BLOCKED\"])\n",
    "num_frauds = len(df[df[\"transaction_status\"]==\"FRAUD\"])\n",
    "num_payments = len(df[\"transaction_status\"])\n",
    "print(\"Number of legit payments: {} ouf of {} ({:.4f}%)\".format( num_legits, num_payments, num_legits/num_payments))\n",
    "print(\"Number of blocked payments: {} ouf of {} ({:.4f}%)\".format( num_blocked, num_payments, num_blocked/num_payments))\n",
    "print(\"Number of fraud payments: {} ouf of {} ({:.4f}%)\".format( num_frauds, num_payments, num_frauds/num_payments))\n"
   ],
   "metadata": {
    "collapsed": false,
    "pycharm": {
     "name": "#%%\n"
    }
   }
  },
  {
   "cell_type": "markdown",
   "source": [
    "# ASSEMBLE.Adaboost algorithm\n",
    "\n",
    "\n",
    "The ASSEMBLE.Adaboost is implemented in the file assembleAdaBoost as a class named AssembleAdaBoost. <b>(Question 1) </b>\n",
    "\n",
    "### Answer to question 2:\n"
   ],
   "metadata": {
    "collapsed": false,
    "pycharm": {
     "name": "#%% md\n"
    }
   }
  },
  {
   "cell_type": "code",
   "execution_count": 7,
   "outputs": [
    {
     "name": "stdout",
     "output_type": "stream",
     "text": [
      "Starting model fitting...\n",
      "Done. doing prediction...\n",
      "precision: FRAUD: 0.8961  LEGIT: 0.9963\n",
      "recall:    FRAUD: 0.6038  LEGIT: 0.9994\n",
      "f1-score:    FRAUD: 0.7214  LEGIT: 0.9978\n"
     ]
    },
    {
     "data": {
      "text/plain": "<Figure size 576x432 with 2 Axes>",
      "image/png": "[encoded data removed]"
     },
     "metadata": {
      "needs_background": "light"
     },
     "output_type": "display_data"
    }
   ],
   "source": [
    "import pickle\n",
    "from sklearn.model_selection import train_test_split\n",
    "from sklearn.metrics import confusion_matrix\n",
    "\n",
    "not_blocked_df = df[df[\"transaction_status\"]!=\"BLOCKED\"]\n",
    "blocked_df = df[df[\"transaction_status\"]==\"BLOCKED\"]\n",
    "\n",
    "X_blocked = get_df_features(blocked_df)\n",
    "X_labeled = get_df_features(not_blocked_df)\n",
    "\n",
    "y_labeled = get_df_labels(not_blocked_df)\n",
    "y_labeled = np.array([1 if elem==\"LEGIT\" else -1 for elem in y_labeled])\n",
    "\n",
    "X_train, X_test, y_train, y_test = train_test_split(X_labeled, y_labeled, stratify=y_labeled, test_size=0.30, shuffle=True)\n",
    "X_train_blocked = X_blocked\n",
    "y_train_blocked= get_initial_blocked_labels(X_train, y_train, X_blocked)\n",
    "\n",
    "\n",
    "print(\"Starting model fitting...\")\n",
    "clf = AssembleAdaBoost(n_estimators=50)\n",
    "clf.fit(X_train, X_train_blocked,y_train, y_train_blocked)\n",
    "print(\"Done. doing prediction...\")\n",
    "y_pred = clf.predict(X_test)\n",
    "\n",
    "# Save the fitted model with pickle\n",
    "file = open('models/assemble_adaboost_model.pkl', 'wb')\n",
    "pickle.dump(clf, file)\n",
    "file.close()\n",
    "\n",
    "# Print metrcis and the confusion matrix\n",
    "print_metrics(y_test, y_pred)\n",
    "cm = confusion_matrix(y_test, y_pred)\n",
    "plot_confusion_matrix(cm, [\"FRAUD\", \"LEGIT\"])"
   ],
   "metadata": {
    "collapsed": false,
    "pycharm": {
     "name": "#%%\n"
    }
   }
  },
  {
   "cell_type": "markdown",
   "source": [
    "### Assemble Adaboost benchmark\n",
    "\n",
    "To see if the algorithm performs well, we can compare it to a similar model, Adaboost. To do so, we use sklearn's\n",
    "AdaBoostClassifier class and perform 4-fold classification on the dataset for both classifiers.\n"
   ],
   "metadata": {
    "collapsed": false,
    "pycharm": {
     "name": "#%% md\n"
    }
   }
  },
  {
   "cell_type": "code",
   "execution_count": 10,
   "outputs": [
    {
     "name": "stdout",
     "output_type": "stream",
     "text": [
      "StratifiedKFold(n_splits=4, random_state=None, shuffle=True)\n",
      "\n",
      "current k-fold: 1\n",
      "\n",
      "ASSEMBLE Adaboost classification metrics:\n",
      "precision: FRAUD: 0.8642  LEGIT: 0.9963\n",
      "recall:    FRAUD: 0.6012  LEGIT: 0.9991\n",
      "fscore:    FRAUD: 0.7091  LEGIT: 0.9977\n",
      "\n",
      "Adaboost classification metrics:\n",
      "precision: FRAUD: 0.8750  LEGIT: 0.9968\n",
      "recall:    FRAUD: 0.6507  LEGIT: 0.9991\n",
      "fscore:    FRAUD: 0.7463  LEGIT: 0.9980\n",
      "\n",
      "current k-fold: 2\n",
      "\n",
      "ASSEMBLE Adaboost classification metrics:\n",
      "precision: FRAUD: 0.8625  LEGIT: 0.9968\n",
      "recall:    FRAUD: 0.6492  LEGIT: 0.9990\n",
      "fscore:    FRAUD: 0.7408  LEGIT: 0.9979\n",
      "\n",
      "Adaboost classification metrics:\n",
      "precision: FRAUD: 0.8763  LEGIT: 0.9967\n",
      "recall:    FRAUD: 0.6477  LEGIT: 0.9992\n",
      "fscore:    FRAUD: 0.7448  LEGIT: 0.9979\n",
      "\n",
      "current k-fold: 3\n",
      "\n",
      "ASSEMBLE Adaboost classification metrics:\n",
      "precision: FRAUD: 0.8877  LEGIT: 0.9965\n",
      "recall:    FRAUD: 0.6162  LEGIT: 0.9993\n",
      "fscore:    FRAUD: 0.7274  LEGIT: 0.9979\n",
      "\n",
      "Adaboost classification metrics:\n",
      "precision: FRAUD: 0.8884  LEGIT: 0.9968\n",
      "recall:    FRAUD: 0.6567  LEGIT: 0.9992\n",
      "fscore:    FRAUD: 0.7552  LEGIT: 0.9980\n",
      "\n",
      "current k-fold: 4\n",
      "\n",
      "ASSEMBLE Adaboost classification metrics:\n",
      "precision: FRAUD: 0.8913  LEGIT: 0.9964\n",
      "recall:    FRAUD: 0.6147  LEGIT: 0.9993\n",
      "fscore:    FRAUD: 0.7276  LEGIT: 0.9979\n",
      "\n",
      "Adaboost classification metrics:\n",
      "precision: FRAUD: 0.8967  LEGIT: 0.9964\n",
      "recall:    FRAUD: 0.6117  LEGIT: 0.9993\n",
      "fscore:    FRAUD: 0.7273  LEGIT: 0.9979\n"
     ]
    }
   ],
   "source": [
    "from sklearn.model_selection import StratifiedKFold\n",
    "from sklearn.ensemble import AdaBoostClassifier\n",
    "\n",
    "from sklearn.metrics import confusion_matrix\n",
    "\n",
    "not_blocked_df = df[df[\"transaction_status\"]!=\"BLOCKED\"]\n",
    "blocked_df = df[df[\"transaction_status\"]==\"BLOCKED\"]\n",
    "\n",
    "X_blocked = get_df_features(blocked_df)\n",
    "X_labeled = get_df_features(not_blocked_df)\n",
    "\n",
    "y_labeled = get_df_labels(not_blocked_df)\n",
    "y_labeled = np.array([1 if elem==\"LEGIT\" else -1 for elem in y_labeled])\n",
    "\n",
    "skf = StratifiedKFold(n_splits=4, shuffle=True)\n",
    "skf.get_n_splits(X_labeled, y_labeled)\n",
    "print(skf)\n",
    "\n",
    "for idx, (train_index, test_index) in enumerate(skf.split(X_labeled, y_labeled)):\n",
    "    print(\"\\ncurrent k-fold:\", idx+1)\n",
    "\n",
    "    X_train_labeled, X_test = X_labeled[train_index], X_labeled[test_index]\n",
    "    y_train_labeled, y_test= y_labeled[train_index], y_labeled[test_index]\n",
    "\n",
    "    X_train_blocked = X_blocked\n",
    "    y_train_blocked= get_initial_blocked_labels(X_train_labeled, y_train_labeled, X_blocked)\n",
    "    print(\"\\nASSEMBLE Adaboost classification metrics:\")\n",
    "    clf = AssembleAdaBoost(n_estimators=50)\n",
    "    clf.fit(X_train_labeled, X_train_blocked,y_train_labeled, y_train_blocked)\n",
    "    y_pred = clf.predict(X_test)\n",
    "    print_metrics(y_test, y_pred)\n",
    "\n",
    "    print(\"\\nAdaboost classification metrics:\")\n",
    "    clf = AdaBoostClassifier(DecisionTreeClassifier(max_depth=1, max_leaf_nodes=2),algorithm='SAMME')\n",
    "    clf.fit(X_train_labeled, y_train_labeled)\n",
    "    y_pred = clf.predict(X_test)\n",
    "    print_metrics(y_test, y_pred)\n"
   ],
   "metadata": {
    "collapsed": false,
    "pycharm": {
     "name": "#%%\n"
    }
   }
  },
  {
   "cell_type": "markdown",
   "source": [
    "We can see that Assemble.Adaboost classifier has similar performance or sometimes slightly below performances compared\n",
    "to Adaboost. The reason could be that blocked samples have very different distrubution compared to the two labeled\n",
    "classes (see TSNE) and thus poorly contributing to the increase of performances."
   ],
   "metadata": {
    "collapsed": false
   }
  },
  {
   "cell_type": "markdown",
   "source": [
    "### Answer to question 3\n",
    "\n",
    "Taking the optimal decision here means to maximize the profit of the transaction given the transaction amount, the fraud\n",
    "fee and the probability that the transaction is a fraud. We can calculate the potential profit with\n",
    "the formula:\n",
    "\n",
    " `potential_profit = amount*(1-p) - p*fraud_fee`\n",
    "\n",
    "If this potential profit is above 0, we should allow the transaction. Otherwise, we blocked it as we\n",
    "potentially lose money.\n",
    "\n",
    "Below is a plot describing how this function behaves given different amount, a fixed fraud fee of 15€ and a variable\n",
    "probability of fraud.\n",
    "* When the amount increase, we can allow a higher probability of fraud.\n",
    "* At an amount of 15€ and p=0.5 the potential profit is 0, which makes sense."
   ],
   "metadata": {
    "collapsed": false,
    "pycharm": {
     "name": "#%% md\n"
    }
   }
  },
  {
   "cell_type": "code",
   "execution_count": 28,
   "outputs": [
    {
     "data": {
      "text/plain": "<Figure size 432x288 with 1 Axes>",
      "image/png": "[encoded data removed]"
     },
     "metadata": {
      "needs_background": "light"
     },
     "output_type": "display_data"
    }
   ],
   "source": [
    "ax = plt.subplot(111)\n",
    "fraud_fee = 15.0\n",
    "amounts = [5, 10, 15, 25, 50]\n",
    "for amount in amounts:\n",
    "    p = np.arange(0.0, 1.0, 0.01)\n",
    "    potential_profit = amount*(1-p) - p*fraud_fee\n",
    "    line, = plt.plot(p, potential_profit, lw=2,label=\"amount: {}\".format(amount))\n",
    "plt.grid(True)\n",
    "plt.legend()\n",
    "ax.set_ylabel(\"Decision score\")\n",
    "ax.set_xlabel(\"Probability of being fraud\")\n",
    "plt.ylim(-20, 20)\n",
    "plt.show()\n"
   ],
   "metadata": {
    "collapsed": false,
    "pycharm": {
     "name": "#%%\n"
    }
   }
  },
  {
   "cell_type": "code",
   "execution_count": 11,
   "outputs": [],
   "source": [
    "# optimal decision method\n",
    "def optimal_decision(amount, fraud_fee, p):\n",
    "    \"\"\"Computes the optimal decision between blocking or not blocking of the transaction\n",
    "        Parameters\n",
    "        ----------\n",
    "        amount : amount of the transaction\n",
    "        fraud_fee : fraud fee\n",
    "        p : probability of the transaction to be a fraud\n",
    "        Returns\n",
    "        -------\n",
    "        decision : boolean :\n",
    "                    True if the transaction must be blocked\n",
    "                    False if the transaction must not be blocked\n",
    "        \"\"\"\n",
    "    potential_profit  = amount*(1-p) - p*fraud_fee\n",
    "    if potential_profit < 0:\n",
    "        return 'BLOCK'\n",
    "    else:\n",
    "        return 'ACCEPT'\n",
    "\n",
    "\n"
   ],
   "metadata": {
    "collapsed": false,
    "pycharm": {
     "name": "#%%\n"
    }
   }
  },
  {
   "cell_type": "code",
   "execution_count": 6,
   "outputs": [
    {
     "name": "stdout",
     "output_type": "stream",
     "text": [
      "{\n",
      "  \"decision\": \"ACCEPT\", \n",
      "  \"fraud_probability\": 0.6850552412307986\n",
      "}\n",
      "\n"
     ]
    }
   ],
   "source": [
    "import json\n",
    "import requests\n",
    "from datetime import datetime\n",
    "dict_payload = {\"order_id\":1203,\n",
    "       \"user_id\": 2978440680,\n",
    "       \"order_created_datetime\": \"15/01/2019 02:36\",\n",
    "       \"amount\": 44.066017150878906,\n",
    "       \"total_amount_14days\": 0.0,\n",
    "       \"email_handle_length\": 9,\n",
    "       \"email_handle_dst_char\": 6,\n",
    "       \"total_nb_orders_player\":7,\n",
    "       \"player_seniority\":287,\n",
    "       \"total_nb_play_sessions\":45,\n",
    "       \"geographic_distance_risk\":1\n",
    "        }\n",
    "# app_json = json.dumps(dict_payload)\n",
    "# print(app_json)\n",
    "\n",
    "a = requests.post(\"http://0.0.0.0:5000/score/\", json = dict_payload)\n",
    "print(a.text)"
   ],
   "metadata": {
    "collapsed": false,
    "pycharm": {
     "name": "#%%\n"
    }
   }
  }
 ],
 "metadata": {
  "kernelspec": {
   "display_name": "Python 3",
   "language": "python",
   "name": "python3"
  },
  "language_info": {
   "codemirror_mode": {
    "name": "ipython",
    "version": 2
   },
   "file_extension": ".py",
   "mimetype": "text/x-python",
   "name": "python",
   "nbconvert_exporter": "python",
   "pygments_lexer": "ipython2",
   "version": "2.7.6"
  }
 },
 "nbformat": 4,
 "nbformat_minor": 0
}