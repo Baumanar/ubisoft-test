{
 "cells": [
  {
   "cell_type": "code",
   "execution_count": null,
   "outputs": [],
   "source": [],
   "metadata": {
    "collapsed": false,
    "pycharm": {
     "name": "#%%\n"
    }
   }
  },
  {
   "cell_type": "markdown",
   "source": [
    "# Fraud Detection\n",
    "## Ubisoft home assignment\n",
    "Arnaud Baumann"
   ],
   "metadata": {
    "collapsed": false
   }
  },
  {
   "cell_type": "markdown",
   "source": [
    "#### Some statistics about the dataset\n",
    "\n",
    "We will first show some statistics about the dataset"
   ],
   "metadata": {
    "collapsed": false
   }
  },
  {
   "cell_type": "code",
   "execution_count": 2,
   "outputs": [
    {
     "data": {
      "text/plain": "            order_id       user_id         amount  total_amount_14days  \\\ncount  351608.000000  3.516080e+05  351608.000000        351608.000000   \nmean   175804.500000  1.815211e+09      19.891322             7.640486   \nstd    101500.631062  1.389552e+09       5.000679            11.414277   \nmin         1.000000  4.309400e+04      15.380593             0.000000   \n25%     87902.750000  5.126803e+08      16.564917             0.000000   \n50%    175804.500000  1.383492e+09      18.022250             0.000000   \n75%    263706.250000  3.135267e+09      21.038054            17.936250   \nmax    351608.000000  4.114552e+09      49.864014           189.868357   \n\n       email_handle_length  email_handle_dst_char  total_nb_orders_player  \\\ncount        351608.000000          351608.000000           351608.000000   \nmean             11.215689               8.608701              447.575428   \nstd               3.057254               2.294192             3300.715461   \nmin               1.000000               1.000000                0.000000   \n25%               9.000000               7.000000                4.000000   \n50%              11.000000               8.000000               12.000000   \n75%              13.000000              10.000000               34.000000   \nmax              41.000000              20.000000            41122.000000   \n\n       player_seniority  total_nb_play_sessions  geographic_distance_risk  \ncount     351608.000000           351608.000000             351608.000000  \nmean         851.906891              162.610305                  0.139209  \nstd          810.101134              209.447766                  0.346165  \nmin            0.000000                1.000000                  0.000000  \n25%          240.000000               23.000000                  0.000000  \n50%          610.000000               86.000000                  0.000000  \n75%         1245.000000              220.000000                  0.000000  \nmax         6322.000000             3503.000000                  1.000000  ",
      "text/html": "<div>\n<style scoped>\n    .dataframe tbody tr th:only-of-type {\n        vertical-align: middle;\n    }\n\n    .dataframe tbody tr th {\n        vertical-align: top;\n    }\n\n    .dataframe thead th {\n        text-align: right;\n    }\n</style>\n<table border=\"1\" class=\"dataframe\">\n  <thead>\n    <tr style=\"text-align: right;\">\n      <th></th>\n      <th>order_id</th>\n      <th>user_id</th>\n      <th>amount</th>\n      <th>total_amount_14days</th>\n      <th>email_handle_length</th>\n      <th>email_handle_dst_char</th>\n      <th>total_nb_orders_player</th>\n      <th>player_seniority</th>\n      <th>total_nb_play_sessions</th>\n      <th>geographic_distance_risk</th>\n    </tr>\n  </thead>\n  <tbody>\n    <tr>\n      <th>count</th>\n      <td>351608.000000</td>\n      <td>3.516080e+05</td>\n      <td>351608.000000</td>\n      <td>351608.000000</td>\n      <td>351608.000000</td>\n      <td>351608.000000</td>\n      <td>351608.000000</td>\n      <td>351608.000000</td>\n      <td>351608.000000</td>\n      <td>351608.000000</td>\n    </tr>\n    <tr>\n      <th>mean</th>\n      <td>175804.500000</td>\n      <td>1.815211e+09</td>\n      <td>19.891322</td>\n      <td>7.640486</td>\n      <td>11.215689</td>\n      <td>8.608701</td>\n      <td>447.575428</td>\n      <td>851.906891</td>\n      <td>162.610305</td>\n      <td>0.139209</td>\n    </tr>\n    <tr>\n      <th>std</th>\n      <td>101500.631062</td>\n      <td>1.389552e+09</td>\n      <td>5.000679</td>\n      <td>11.414277</td>\n      <td>3.057254</td>\n      <td>2.294192</td>\n      <td>3300.715461</td>\n      <td>810.101134</td>\n      <td>209.447766</td>\n      <td>0.346165</td>\n    </tr>\n    <tr>\n      <th>min</th>\n      <td>1.000000</td>\n      <td>4.309400e+04</td>\n      <td>15.380593</td>\n      <td>0.000000</td>\n      <td>1.000000</td>\n      <td>1.000000</td>\n      <td>0.000000</td>\n      <td>0.000000</td>\n      <td>1.000000</td>\n      <td>0.000000</td>\n    </tr>\n    <tr>\n      <th>25%</th>\n      <td>87902.750000</td>\n      <td>5.126803e+08</td>\n      <td>16.564917</td>\n      <td>0.000000</td>\n      <td>9.000000</td>\n      <td>7.000000</td>\n      <td>4.000000</td>\n      <td>240.000000</td>\n      <td>23.000000</td>\n      <td>0.000000</td>\n    </tr>\n    <tr>\n      <th>50%</th>\n      <td>175804.500000</td>\n      <td>1.383492e+09</td>\n      <td>18.022250</td>\n      <td>0.000000</td>\n      <td>11.000000</td>\n      <td>8.000000</td>\n      <td>12.000000</td>\n      <td>610.000000</td>\n      <td>86.000000</td>\n      <td>0.000000</td>\n    </tr>\n    <tr>\n      <th>75%</th>\n      <td>263706.250000</td>\n      <td>3.135267e+09</td>\n      <td>21.038054</td>\n      <td>17.936250</td>\n      <td>13.000000</td>\n      <td>10.000000</td>\n      <td>34.000000</td>\n      <td>1245.000000</td>\n      <td>220.000000</td>\n      <td>0.000000</td>\n    </tr>\n    <tr>\n      <th>max</th>\n      <td>351608.000000</td>\n      <td>4.114552e+09</td>\n      <td>49.864014</td>\n      <td>189.868357</td>\n      <td>41.000000</td>\n      <td>20.000000</td>\n      <td>41122.000000</td>\n      <td>6322.000000</td>\n      <td>3503.000000</td>\n      <td>1.000000</td>\n    </tr>\n  </tbody>\n</table>\n</div>"
     },
     "execution_count": 2,
     "metadata": {},
     "output_type": "execute_result"
    }
   ],
   "source": [
    "import pandas as pd\n",
    "import sys\n",
    "pd.options.mode.chained_assignment = None\n",
    "\n",
    "from sklearn.tree import DecisionTreeClassifier\n",
    "from assembleAdaboost import AssembleAdaBoost\n",
    "import pickle\n",
    "from utils import *\n",
    "from sklearn.decomposition import PCA\n",
    "from sklearn.manifold import TSNE\n",
    "import matplotlib.pyplot as plt\n",
    "\n",
    "# First read the csv with pandas and transform it to a dataframe\n",
    "df = pd.read_csv(\"mle_fraud_test.csv\", sep=\";\")\n",
    "df.describe()"
   ],
   "metadata": {
    "collapsed": false,
    "pycharm": {
     "name": "#%%\n"
    }
   }
  },
  {
   "cell_type": "markdown",
   "source": [
    "I kept most of the feature unchanged. I dropped the `order_id` column as each order has a unique ID.\n",
    "For the rest of the features, I only transformed `user_id` and `order_created_datetime` features because\n",
    "they had too high cardinality:\n",
    "* Each `user_id` has been replaced by the number of times it appears in the train set (`user_id_count`).\n",
    "* The range of `order_created_datetime` has been reduced by keeping only the day number of the month (`day_number`)\n",
    "\n",
    "Let's try to visualize the data with a TSNE. We sample `n_samples = 300` from each class and feed it to a TSNE and plot it\n"
   ],
   "metadata": {
    "collapsed": false
   }
  },
  {
   "cell_type": "code",
   "execution_count": 3,
   "outputs": [
    {
     "data": {
      "text/plain": "<Figure size 576x576 with 1 Axes>",
      "image/png": "[encoded data removed]"
     },
     "metadata": {
      "needs_background": "light"
     },
     "output_type": "display_data"
    }
   ],
   "source": [
    "# Sample for each class 300 point for TSNE\n",
    "n_samples = 300\n",
    "legit_df = df[df[\"transaction_status\"]==\"LEGIT\"].sample(n=n_samples)\n",
    "fraud_df = df[df[\"transaction_status\"]==\"FRAUD\"].sample(n=n_samples)\n",
    "blocked_df = df[df[\"transaction_status\"]==\"BLOCKED\"].sample(n=n_samples)\n",
    "X_legit = get_df_features(legit_df)\n",
    "X_fraud= get_df_features(fraud_df)\n",
    "X_blocked = get_df_features(blocked_df)\n",
    "\n",
    "\n",
    "user_id_counter = dict(Counter( np.concatenate([X_legit[:,0], X_fraud[:,0], X_blocked[:,0]]) ))\n",
    "preprocess(X_legit, user_id_counter)\n",
    "preprocess(X_fraud, user_id_counter)\n",
    "preprocess(X_blocked, user_id_counter)\n",
    "\n",
    "\n",
    "# Fit the TSNE\n",
    "n_components = 2\n",
    "pca = TSNE(n_components=n_components)\n",
    "X_pca = pca.fit_transform(np.concatenate([X_legit, X_fraud, X_blocked]))\n",
    "\n",
    "# Plot the transformed points\n",
    "plt.figure(figsize=(8, 8))\n",
    "colors = ['navy', 'turquoise', 'darkorange']\n",
    "for color, i, target_name in zip(colors, [0, 1, 2], ['LEGIT', 'FRAUD', 'BLOCKED']):\n",
    "    plt.scatter(X_pca[i*n_samples:(i+1)*n_samples,0], X_pca[i*n_samples:(i+1)*n_samples,1], s=1,\n",
    "                color=color, lw=2, label=target_name)\n",
    "plt.legend(loc=\"best\", shadow=False, scatterpoints=1)\n",
    "plt.show()"
   ],
   "metadata": {
    "collapsed": false,
    "pycharm": {
     "name": "#%%\n"
    }
   }
  },
  {
   "cell_type": "markdown",
   "source": [
    "### Dataset imbalance\n",
    "\n",
    "Datasets for fraud detection are usually very unbalanced, as the majority of samples are valid\n",
    "(LEGIT in our case). Here we have an additionnal third class named 'BLOCKED' meaning that the existing fraud\n",
    "management tool has stopped the transaction and we do not have a final label for it. We refer in this notebook\n",
    "to data with 'BLOCKED' label with variables containing 'blocked'"
   ],
   "metadata": {
    "collapsed": false
   }
  },
  {
   "cell_type": "code",
   "execution_count": 4,
   "outputs": [
    {
     "name": "stdout",
     "output_type": "stream",
     "text": [
      "Number of legit payments: 287653 ouf of 351608 (0.8181%)\n",
      "Number of blocked payments: 61287 ouf of 351608 (0.1743%)\n",
      "Number of fraud payments: 2668 ouf of 351608 (0.0076%)\n"
     ]
    }
   ],
   "source": [
    "num_legits = len(df[df[\"transaction_status\"]==\"LEGIT\"])\n",
    "num_blocked = len(df[df[\"transaction_status\"]==\"BLOCKED\"])\n",
    "num_frauds = len(df[df[\"transaction_status\"]==\"FRAUD\"])\n",
    "num_payments = len(df[\"transaction_status\"])\n",
    "print(\"Number of legit payments: {} ouf of {} ({:.4f}%)\".format( num_legits, num_payments, num_legits/num_payments))\n",
    "print(\"Number of blocked payments: {} ouf of {} ({:.4f}%)\".format( num_blocked, num_payments, num_blocked/num_payments))\n",
    "print(\"Number of fraud payments: {} ouf of {} ({:.4f}%)\".format( num_frauds, num_payments, num_frauds/num_payments))\n"
   ],
   "metadata": {
    "collapsed": false,
    "pycharm": {
     "name": "#%%\n"
    }
   }
  },
  {
   "cell_type": "markdown",
   "source": [
    "# ASSEMBLE.Adaboost algorithm\n",
    "\n",
    "\n",
    "The ASSEMBLE.Adaboost is implemented in the file `assembleAdaBoost.py` as a class named AssembleAdaBoost.\n",
    "<b>(Question 1) </b>. I personnaly chose to drop the re-sample step (step 13) of the algorithm as the only\n",
    "purpose of it was to keep training time similar to Adaboost.\n",
    "\n",
    "### Answer to question 2:\n",
    "\n",
    "You can find below a code cell that trains the assembleAdaBoost algorithm and\n",
    "outputs the resulting confusion matrix on the test set. I chose a split ratio between train and test of 75%\n",
    "for train and 25% for test."
   ],
   "metadata": {
    "collapsed": false,
    "pycharm": {
     "name": "#%% md\n"
    }
   }
  },
  {
   "cell_type": "code",
   "execution_count": 9,
   "outputs": [
    {
     "name": "stdout",
     "output_type": "stream",
     "text": [
      "Preprocessing data...\n",
      "Starting model fitting...\n",
      "Done. doing prediction...\n",
      "\n",
      "precision: FRAUD: 0.8366  LEGIT: 0.9967\n",
      "recall:    FRAUD: 0.6447  LEGIT: 0.9988\n",
      "f1-score:    FRAUD: 0.7282  LEGIT: 0.9978\n"
     ]
    },
    {
     "data": {
      "text/plain": "<Figure size 576x432 with 2 Axes>",
      "image/png": "[encoded data removed]"
     },
     "metadata": {
      "needs_background": "light"
     },
     "output_type": "display_data"
    }
   ],
   "source": [
    "from sklearn.model_selection import train_test_split\n",
    "from sklearn.metrics import confusion_matrix\n",
    "from collections import Counter\n",
    "\n",
    "# Read the dataframe and get labeled and unlabeled data\n",
    "df = pd.read_csv(\"mle_fraud_test.csv\", sep=\";\")\n",
    "not_blocked_df = df[df[\"transaction_status\"]!=\"BLOCKED\"]\n",
    "blocked_df = df[df[\"transaction_status\"]==\"BLOCKED\"]\n",
    "\n",
    "\n",
    "y_labeled = get_df_labels(not_blocked_df)\n",
    "X_train_blocked = get_df_features(blocked_df)\n",
    "X_labeled = get_df_features(not_blocked_df)\n",
    "\n",
    "# Split into train and test\n",
    "X_train, X_test, y_train, y_test = train_test_split(X_labeled, y_labeled, stratify=y_labeled, test_size=0.25, shuffle=True)\n",
    "\n",
    "# Create user_id_dictionary based on the train dataset\n",
    "user_id_counter = dict(Counter( np.concatenate([X_train[:,0], X_train_blocked[:,0]]) ))\n",
    "# Save the dictionnary as we are going to reuse it in the app\n",
    "file = open('user_id_counter.pkl', 'wb')\n",
    "pickle.dump(user_id_counter, file)\n",
    "file.close()\n",
    "\n",
    "# Transform user_id and order_created_datetime features\n",
    "print('Preprocessing data...')\n",
    "preprocess(X_train, user_id_counter)\n",
    "preprocess(X_test, user_id_counter)\n",
    "preprocess(X_train_blocked, user_id_counter)\n",
    "# Initialize pseudo-labels for blocked data\n",
    "y_train_blocked = get_initial_blocked_labels(X_train, y_train, X_train_blocked)\n",
    "\n",
    "\n",
    "print(\"Starting model fitting...\")\n",
    "clf = AssembleAdaBoost(n_estimators=50)\n",
    "clf.fit(X_train.astype(float), X_train_blocked.astype(float),y_train, y_train_blocked)\n",
    "print(\"Done. doing prediction...\\n\")\n",
    "y_pred = clf.predict(X_test)\n",
    "\n",
    "\n",
    "# Save the fitted model with pickle\n",
    "file = open('assemble_adaboost_model.pkl', 'wb')\n",
    "pickle.dump(clf, file)\n",
    "file.close()\n",
    "\n",
    "# Print metrcis and the confusion matrix\n",
    "print_metrics(y_test, y_pred)\n",
    "cm = confusion_matrix(y_test, y_pred)\n",
    "plot_confusion_matrix(cm, [\"FRAUD\", \"LEGIT\"], normalize=False)"
   ],
   "metadata": {
    "collapsed": false,
    "pycharm": {
     "name": "#%%\n"
    }
   }
  },
  {
   "cell_type": "markdown",
   "source": [
    "### Assemble Adaboost benchmark\n",
    "\n",
    "To see if the algorithm performs well, we can compare it to a similar model, Adaboost. To do so, we use sklearn's\n",
    "AdaBoostClassifier class and perform 4-fold classification on the dataset for both classifiers."
   ],
   "metadata": {
    "collapsed": false,
    "pycharm": {
     "name": "#%% md\n"
    }
   }
  },
  {
   "cell_type": "code",
   "execution_count": 5,
   "outputs": [
    {
     "name": "stdout",
     "output_type": "stream",
     "text": [
      "StratifiedKFold(n_splits=4, random_state=None, shuffle=True)\n",
      "\n",
      "current k-fold: 1\n",
      "\n",
      "ASSEMBLE Adaboost classification metrics:\n",
      "precision: FRAUD: 0.8635  LEGIT: 0.9964\n",
      "recall:    FRAUD: 0.6072  LEGIT: 0.9991\n",
      "f1-score:    FRAUD: 0.7130  LEGIT: 0.9977\n",
      "\n",
      "Adaboost classification metrics:\n",
      "precision: FRAUD: 0.8643  LEGIT: 0.9969\n",
      "recall:    FRAUD: 0.6687  LEGIT: 0.9990\n",
      "f1-score:    FRAUD: 0.7540  LEGIT: 0.9980\n",
      "\n",
      "current k-fold: 2\n",
      "\n",
      "ASSEMBLE Adaboost classification metrics:\n",
      "precision: FRAUD: 0.8725  LEGIT: 0.9967\n",
      "recall:    FRAUD: 0.6462  LEGIT: 0.9991\n",
      "f1-score:    FRAUD: 0.7425  LEGIT: 0.9979\n",
      "\n",
      "Adaboost classification metrics:\n",
      "precision: FRAUD: 0.8577  LEGIT: 0.9969\n",
      "recall:    FRAUD: 0.6687  LEGIT: 0.9990\n",
      "f1-score:    FRAUD: 0.7515  LEGIT: 0.9980\n",
      "\n",
      "current k-fold: 3\n",
      "\n",
      "ASSEMBLE Adaboost classification metrics:\n",
      "precision: FRAUD: 0.8600  LEGIT: 0.9967\n",
      "recall:    FRAUD: 0.6447  LEGIT: 0.9990\n",
      "f1-score:    FRAUD: 0.7369  LEGIT: 0.9979\n",
      "\n",
      "Adaboost classification metrics:\n",
      "precision: FRAUD: 0.8942  LEGIT: 0.9967\n",
      "recall:    FRAUD: 0.6462  LEGIT: 0.9993\n",
      "f1-score:    FRAUD: 0.7502  LEGIT: 0.9980\n",
      "\n",
      "current k-fold: 4\n",
      "\n",
      "ASSEMBLE Adaboost classification metrics:\n",
      "precision: FRAUD: 0.8434  LEGIT: 0.9967\n",
      "recall:    FRAUD: 0.6462  LEGIT: 0.9989\n",
      "f1-score:    FRAUD: 0.7317  LEGIT: 0.9978\n",
      "\n",
      "Adaboost classification metrics:\n",
      "precision: FRAUD: 0.8434  LEGIT: 0.9964\n",
      "recall:    FRAUD: 0.6057  LEGIT: 0.9990\n",
      "f1-score:    FRAUD: 0.7051  LEGIT: 0.9977\n"
     ]
    }
   ],
   "source": [
    "from sklearn.model_selection import StratifiedKFold\n",
    "from sklearn.ensemble import AdaBoostClassifier\n",
    "\n",
    "from sklearn.metrics import confusion_matrix\n",
    "df = pd.read_csv(\"mle_fraud_test.csv\", sep=\";\")\n",
    "\n",
    "not_blocked_df = df[df[\"transaction_status\"]!=\"BLOCKED\"]\n",
    "blocked_df = df[df[\"transaction_status\"]==\"BLOCKED\"]\n",
    "\n",
    "y_labeled = get_df_labels(not_blocked_df)\n",
    "X_labeled = get_df_features(not_blocked_df)\n",
    "\n",
    "skf = StratifiedKFold(n_splits=4, shuffle=True)\n",
    "skf.get_n_splits(X_labeled, y_labeled)\n",
    "print(skf)\n",
    "\n",
    "for idx, (train_index, test_index) in enumerate(skf.split(X_labeled, y_labeled)):\n",
    "    print(\"\\ncurrent k-fold:\", idx+1)\n",
    "\n",
    "    X_train_labeled, X_test = X_labeled[train_index], X_labeled[test_index]\n",
    "    y_train_labeled, y_test= y_labeled[train_index], y_labeled[test_index]\n",
    "\n",
    "\n",
    "    user_id_counter = dict(Counter(X_train_labeled[:,0]))\n",
    "\n",
    "    preprocess(X_train_labeled, user_id_counter)\n",
    "    preprocess(X_test, user_id_counter)\n",
    "    X_train_blocked = get_df_features(blocked_df)\n",
    "    preprocess(X_train_blocked, user_id_counter)\n",
    "\n",
    "    y_train_blocked= get_initial_blocked_labels(X_train_labeled, y_train_labeled, X_train_blocked)\n",
    "\n",
    "    print(\"\\nASSEMBLE Adaboost classification metrics:\")\n",
    "    clf = AssembleAdaBoost(n_estimators=50)\n",
    "\n",
    "    clf.fit(X_train_labeled, X_train_blocked,y_train_labeled, y_train_blocked)\n",
    "    y_pred = clf.predict(X_test)\n",
    "    print_metrics(y_test, y_pred)\n",
    "\n",
    "    print(\"\\nAdaboost classification metrics:\")\n",
    "    clf = AdaBoostClassifier(DecisionTreeClassifier(max_depth=1, max_leaf_nodes=2),algorithm='SAMME')\n",
    "    clf.fit(X_train_labeled, y_train_labeled)\n",
    "    y_pred = clf.predict(X_test)\n",
    "    print_metrics(y_test, y_pred)\n",
    "\n",
    "\n"
   ],
   "metadata": {
    "collapsed": false,
    "pycharm": {
     "name": "#%%\n"
    }
   }
  },
  {
   "cell_type": "markdown",
   "source": [
    "We can see that Assemble.Adaboost classifier has similar performance or sometimes slightly below performances compared\n",
    "to Adaboost. The reason could be that blocked samples have very different distrubution compared to the two labeled\n",
    "classes (see TSNE) and thus poorly contributing to the increase of performances."
   ],
   "metadata": {
    "collapsed": false
   }
  },
  {
   "cell_type": "markdown",
   "source": [
    "### Answer to question 3\n",
    "\n",
    "Taking the optimal decision here means to maximize the profit of the transaction given the transaction amount, the fraud\n",
    "fee and the probability that the transaction is a fraud. We can calculate the potential profit with\n",
    "the formula:\n",
    "\n",
    " `potential_profit = amount*(1-p) - p*fraud_fee`\n",
    "\n",
    "If this potential profit is above 0, we should allow the transaction. Otherwise, we blocked it as we\n",
    "potentially lose money.\n",
    "\n",
    "Below is a plot describing how this function behaves given different amount, a fixed fraud fee of 15€ and a variable\n",
    "probability of fraud.\n",
    "* When the amount increase, we can allow a higher probability of fraud.\n",
    "* At an amount of 15€ and p=0.5 the potential profit is 0, which makes sense.\n",
    "\n",
    "You'll also find a code celle with the associated method implemented."
   ],
   "metadata": {
    "collapsed": false,
    "pycharm": {
     "name": "#%% md\n"
    }
   }
  },
  {
   "cell_type": "code",
   "execution_count": 6,
   "outputs": [
    {
     "data": {
      "text/plain": "<Figure size 432x288 with 1 Axes>",
      "image/png": "[encoded data removed]"
     },
     "metadata": {
      "needs_background": "light"
     },
     "output_type": "display_data"
    }
   ],
   "source": [
    "ax = plt.subplot(111)\n",
    "fraud_fee = 15.0\n",
    "amounts = [5, 10, 15, 25, 50]\n",
    "for amount in amounts:\n",
    "    p = np.arange(0.0, 1.0, 0.01)\n",
    "    potential_profit = amount*(1-p) - p*fraud_fee\n",
    "    line, = plt.plot(p, potential_profit, lw=2,label=\"amount: {}\".format(amount))\n",
    "plt.grid(True)\n",
    "plt.legend()\n",
    "ax.set_ylabel(\"Decision score\")\n",
    "ax.set_xlabel(\"Probability of being fraud\")\n",
    "plt.ylim(-20, 20)\n",
    "plt.show()\n"
   ],
   "metadata": {
    "collapsed": false,
    "pycharm": {
     "name": "#%%\n"
    }
   }
  },
  {
   "cell_type": "code",
   "execution_count": 11,
   "outputs": [],
   "source": [
    "# optimal decision method\n",
    "def optimal_decision(amount, fraud_fee, p):\n",
    "    \"\"\"Computes the optimal decision between blocking or not blocking of the transaction\n",
    "        Parameters\n",
    "        ----------\n",
    "        amount : amount of the transaction\n",
    "        fraud_fee : fraud fee\n",
    "        p : probability of the transaction to be a fraud\n",
    "        Returns\n",
    "        -------\n",
    "        decision : boolean :\n",
    "                    True if the transaction must be blocked\n",
    "                    False if the transaction must not be blocked\n",
    "        \"\"\"\n",
    "    potential_profit  = amount*(1-p) - p*fraud_fee\n",
    "    if potential_profit < 0:\n",
    "        return 'BLOCK'\n",
    "    else:\n",
    "        return 'ACCEPT'\n",
    "\n",
    "\n"
   ],
   "metadata": {
    "collapsed": false,
    "pycharm": {
     "name": "#%%\n"
    }
   }
  },
  {
   "cell_type": "code",
   "execution_count": 37,
   "outputs": [
    {
     "name": "stdout",
     "output_type": "stream",
     "text": [
      "{\n",
      "  \"decision\": \"BLOCK\", \n",
      "  \"fraud_probability\": 0.7821344671054099\n",
      "}\n",
      "\n"
     ]
    }
   ],
   "source": [
    "import json\n",
    "import requests\n",
    "from datetime import datetime\n",
    "dict_payload = {\"order_id\":1203,\n",
    "       \"user_id\": 2978440680,\n",
    "       \"order_created_datetime\": \"15/01/2019 02:36\",\n",
    "       \"amount\": 44.066017150878906,\n",
    "       \"total_amount_14days\": 0.0,\n",
    "       \"email_handle_length\": 9,\n",
    "       \"email_handle_dst_char\": 6,\n",
    "       \"total_nb_orders_player\":7,\n",
    "       \"player_seniority\":287,\n",
    "       \"total_nb_play_sessions\":45,\n",
    "       \"geographic_distance_risk\":1\n",
    "        }\n",
    "\n",
    "a = requests.post(\"http://127.0.0.1:5000/score/\", json = dict_payload)\n",
    "print(a.text)"
   ],
   "metadata": {
    "collapsed": false,
    "pycharm": {
     "name": "#%%\n"
    }
   }
  }
 ],
 "metadata": {
  "kernelspec": {
   "display_name": "Python 3",
   "language": "python",
   "name": "python3"
  },
  "language_info": {
   "codemirror_mode": {
    "name": "ipython",
    "version": 2
   },
   "file_extension": ".py",
   "mimetype": "text/x-python",
   "name": "python",
   "nbconvert_exporter": "python",
   "pygments_lexer": "ipython2",
   "version": "2.7.6"
  }
 },
 "nbformat": 4,
 "nbformat_minor": 0
}